{
 "cells": [
  {
   "cell_type": "code",
   "execution_count": 1,
   "id": "0463aa31",
   "metadata": {},
   "outputs": [],
   "source": [
    "s = \"this is My First Python programming class and i am learNING python string and its function\""
   ]
  },
  {
   "cell_type": "markdown",
   "id": "08b7994a",
   "metadata": {},
   "source": [
    "#### 1 . Try to extract data from index one to index 300 with a jump of 3"
   ]
  },
  {
   "cell_type": "code",
   "execution_count": 2,
   "id": "3de390dd",
   "metadata": {},
   "outputs": [
    {
     "data": {
      "text/plain": [
       "'h   r tnrrmglsnimeNGyosi dtfco'"
      ]
     },
     "execution_count": 2,
     "metadata": {},
     "output_type": "execute_result"
    }
   ],
   "source": [
    "s[1:300:3]"
   ]
  },
  {
   "cell_type": "markdown",
   "id": "11e74865",
   "metadata": {},
   "source": [
    "#### 2. Try to reverse a string without using reverse function "
   ]
  },
  {
   "cell_type": "code",
   "execution_count": 3,
   "id": "ab10bff5",
   "metadata": {},
   "outputs": [
    {
     "data": {
      "text/plain": [
       "'noitcnuf sti dna gnirts nohtyp GNINrael ma i dna ssalc gnimmargorp nohtyP tsriF yM si siht'"
      ]
     },
     "execution_count": 3,
     "metadata": {},
     "output_type": "execute_result"
    }
   ],
   "source": [
    "s[::-1]"
   ]
  },
  {
   "cell_type": "markdown",
   "id": "b988393e",
   "metadata": {},
   "source": [
    "#### 3. Try to split a string after conversion of entire string in uppercase"
   ]
  },
  {
   "cell_type": "code",
   "execution_count": 4,
   "id": "db98638e",
   "metadata": {},
   "outputs": [
    {
     "data": {
      "text/plain": [
       "['THIS',\n",
       " 'IS',\n",
       " 'MY',\n",
       " 'FIRST',\n",
       " 'PYTHON',\n",
       " 'PROGRAMMING',\n",
       " 'CLASS',\n",
       " 'AND',\n",
       " 'I',\n",
       " 'AM',\n",
       " 'LEARNING',\n",
       " 'PYTHON',\n",
       " 'STRING',\n",
       " 'AND',\n",
       " 'ITS',\n",
       " 'FUNCTION']"
      ]
     },
     "execution_count": 4,
     "metadata": {},
     "output_type": "execute_result"
    }
   ],
   "source": [
    "s.upper().split()"
   ]
  },
  {
   "cell_type": "markdown",
   "id": "744293bd",
   "metadata": {},
   "source": [
    "#### 4. try to convert the whole string into lower case"
   ]
  },
  {
   "cell_type": "code",
   "execution_count": 5,
   "id": "c2a21726",
   "metadata": {},
   "outputs": [
    {
     "data": {
      "text/plain": [
       "'this is my first python programming class and i am learning python string and its function'"
      ]
     },
     "execution_count": 5,
     "metadata": {},
     "output_type": "execute_result"
    }
   ],
   "source": [
    "s.lower()"
   ]
  },
  {
   "cell_type": "markdown",
   "id": "53ac1cd5",
   "metadata": {},
   "source": [
    "#### 5 . Try to capitalize the whole string"
   ]
  },
  {
   "cell_type": "code",
   "execution_count": 6,
   "id": "000ff72a",
   "metadata": {},
   "outputs": [
    {
     "data": {
      "text/plain": [
       "'This is my first python programming class and i am learning python string and its function'"
      ]
     },
     "execution_count": 6,
     "metadata": {},
     "output_type": "execute_result"
    }
   ],
   "source": [
    "s.capitalize()"
   ]
  },
  {
   "cell_type": "markdown",
   "id": "56991d88",
   "metadata": {},
   "source": [
    "#### 6 . Write a diference between isalnum() and isalpha()"
   ]
  },
  {
   "cell_type": "markdown",
   "id": "8098baa7",
   "metadata": {},
   "source": [
    "isalnum() -> Will check if the given string contains either alphabets or number. And will return true if either one is present\n",
    "\n",
    "isalpha() -> Will check if the gives string contains only alphabets. If anything other than alpahabets are present it will return false"
   ]
  },
  {
   "cell_type": "markdown",
   "id": "6667b8e6",
   "metadata": {},
   "source": [
    "#### 7. Try to give an example of expand tab"
   ]
  },
  {
   "cell_type": "code",
   "execution_count": 9,
   "id": "d1d3d8ff",
   "metadata": {},
   "outputs": [
    {
     "data": {
      "text/plain": [
       "'Ineuron         is a great place to     learn'"
      ]
     },
     "execution_count": 9,
     "metadata": {},
     "output_type": "execute_result"
    }
   ],
   "source": [
    "tabString = 'Ineuron \\tis a great place to \\tlearn'\n",
    "tabString.expandtabs()\n",
    "\n",
    "# expandtabs() -> It will add tab spaces if \"\\t\" is present in the string"
   ]
  },
  {
   "cell_type": "markdown",
   "id": "58e7ece1",
   "metadata": {},
   "source": [
    "#### 8 . Give an example of strip , lstrip and rstrip"
   ]
  },
  {
   "cell_type": "code",
   "execution_count": 10,
   "id": "f06fc5dc",
   "metadata": {},
   "outputs": [
    {
     "name": "stdout",
     "output_type": "stream",
     "text": [
      "Example   -> will remove the extra spaces from left side of the string\n",
      "  Example -> will remove the extra spaces from right side of the string\n",
      "Example -> will remove the extra spaces from both sides of the string\n"
     ]
    }
   ],
   "source": [
    "stripString = \"  Example  \"\n",
    "print(f\"{stripString.lstrip()} -> will remove the extra spaces from left side of the string\")\n",
    "print(f\"{stripString.rstrip()} -> will remove the extra spaces from right side of the string\")\n",
    "print(f\"{stripString.strip()} -> will remove the extra spaces from both sides of the string\")"
   ]
  },
  {
   "cell_type": "markdown",
   "id": "73702f39",
   "metadata": {},
   "source": [
    "#### 9.  Replace a string charecter by another charector by taking your own example"
   ]
  },
  {
   "cell_type": "code",
   "execution_count": 12,
   "id": "416f3536",
   "metadata": {},
   "outputs": [
    {
     "data": {
      "text/plain": [
       "'ineuron is in banglore'"
      ]
     },
     "execution_count": 12,
     "metadata": {},
     "output_type": "execute_result"
    }
   ],
   "source": [
    "replaceString = \"oteuron is ot banglore\"\n",
    "replaceString = replaceString.replace(\"ot\",\"in\")\n",
    "replaceString"
   ]
  },
  {
   "cell_type": "markdown",
   "id": "3f5752d2",
   "metadata": {},
   "source": [
    "#### 10 . Try  to give a defination of string center function with and exmple"
   ]
  },
  {
   "cell_type": "code",
   "execution_count": 22,
   "id": "e389a0c2",
   "metadata": {},
   "outputs": [
    {
     "data": {
      "text/plain": [
       "'********Yash********'"
      ]
     },
     "execution_count": 22,
     "metadata": {},
     "output_type": "execute_result"
    }
   ],
   "source": [
    "centerString = \"Yash\"\n",
    "centerString.center(20,\"*\")\n",
    "\n",
    "#center() -> Will take two values one the length of string and the value in which it should be surrounded by.\n",
    "#            It will keep your string in center and inputed values will cover in both sides according to the string sive \n",
    "#            which we provided"
   ]
  },
  {
   "cell_type": "markdown",
   "id": "4090c3fa",
   "metadata": {},
   "source": [
    "#### 11 . Write your own definition of compiler and interpretor without copy paste form internet in your own language"
   ]
  },
  {
   "cell_type": "markdown",
   "id": "293a140f",
   "metadata": {},
   "source": [
    "Compiler -> 1) Analysis all the statement before converting it into machine language\n",
    "            2) Not dynamically typed\n",
    "            3) It stores the machine language on the disk (ex: java converts into byte object and stores it for execution)\n",
    "            4) example : java,c"
   ]
  },
  {
   "cell_type": "markdown",
   "id": "e5f6aedd",
   "metadata": {},
   "source": [
    "interpretor -> 1) It executes statement line by line before converting it into machine langauge\n",
    "               2) dynamically typed\n",
    "               3) It does'nt stores the machine language on the disk\n",
    "               4) example : python"
   ]
  },
  {
   "cell_type": "markdown",
   "id": "91183707",
   "metadata": {},
   "source": [
    "#### 12 . Python is a interpreted of compiled language give a clear ans with your understanding "
   ]
  },
  {
   "cell_type": "markdown",
   "id": "a20b17a8",
   "metadata": {},
   "source": [
    "Python is interpreter. Becuase we can exceute python line by line and its dynamically typed. And it doesn't store any byte code anywhere before getting executed "
   ]
  },
  {
   "cell_type": "markdown",
   "id": "11f3ec1b",
   "metadata": {},
   "source": [
    "#### 13 . Try to write a usecase of python with your understanding"
   ]
  },
  {
   "cell_type": "markdown",
   "id": "ec831810",
   "metadata": {},
   "source": [
    "According to me python is being used everywhere is software industry\n",
    "\n",
    "1) Web Development \n",
    "\n",
    "Django and flask are very much used in the web development industry for either developing full stack or micro services\n",
    "\n",
    "2) AI\n",
    "\n",
    "With support of major math/ML/DL libraries supporting python. Python is the first choice for development or researching anything about AI\n",
    "\n",
    "3) Gaming \n",
    "\n",
    "With the help of pygame we can also develop gaming softwares using python.\n",
    "\n",
    "4) Cross platform\n",
    "\n",
    "With the help of Kivy we can build one application which can run on browser/desktop app/android/ios. Even though it is in the early stage of development i see a large use in it.\n",
    "\n"
   ]
  },
  {
   "cell_type": "code",
   "execution_count": null,
   "id": "0e59b00c",
   "metadata": {},
   "outputs": [],
   "source": []
  }
 ],
 "metadata": {
  "kernelspec": {
   "display_name": "Python 3 (ipykernel)",
   "language": "python",
   "name": "python3"
  },
  "language_info": {
   "codemirror_mode": {
    "name": "ipython",
    "version": 3
   },
   "file_extension": ".py",
   "mimetype": "text/x-python",
   "name": "python",
   "nbconvert_exporter": "python",
   "pygments_lexer": "ipython3",
   "version": "3.9.7"
  }
 },
 "nbformat": 4,
 "nbformat_minor": 5
}

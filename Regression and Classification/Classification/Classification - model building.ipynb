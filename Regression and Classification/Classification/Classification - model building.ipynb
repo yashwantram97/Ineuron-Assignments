{
 "cells": [
  {
   "cell_type": "code",
   "execution_count": 22,
   "id": "9283d8f3",
   "metadata": {},
   "outputs": [],
   "source": [
    "import pandas as pd\n",
    "import warnings\n",
    "import json\n",
    "import numpy as np\n",
    "warnings.filterwarnings(\"ignore\")\n",
    "from sklearn.model_selection import train_test_split\n",
    "from sklearn.compose import ColumnTransformer\n",
    "from sklearn.preprocessing import OneHotEncoder, StandardScaler\n",
    "from sklearn.metrics import accuracy_score\n",
    "from sklearn.pipeline import Pipeline\n",
    "from sklearn.linear_model import LogisticRegression\n",
    "from sklearn.svm import SVC\n",
    "from sklearn.metrics import roc_curve\n",
    "from sklearn.metrics import roc_auc_score\n",
    "import matplotlib.pyplot as plt\n",
    "from sklearn.model_selection import GridSearchCV\n",
    "import pymongo\n",
    "from pymongo import MongoClient\n",
    "import pickle\n",
    "\n",
    "%matplotlib inline"
   ]
  },
  {
   "cell_type": "code",
   "execution_count": 2,
   "id": "4ec7807c",
   "metadata": {},
   "outputs": [],
   "source": [
    "def get_database():\n",
    "    \n",
    "    CONNECTION_STRING = \"mongodb+srv://admin:<password>@<cluster>\"\n",
    "    client = MongoClient(CONNECTION_STRING)\n",
    "    return client['oct30']\n",
    "\n",
    "def load_df_from_mongo(collectionName):\n",
    "    mongo_db = get_database()\n",
    "    collection = mongo_db[collectionName] \n",
    "    cursor = collection.find({})\n",
    "    df =  pd.DataFrame(list(cursor))\n",
    "    del df['_id']\n",
    "    return df"
   ]
  },
  {
   "cell_type": "markdown",
   "id": "3aa50be8",
   "metadata": {},
   "source": [
    "## Model building\n",
    "\n",
    "### Logitic classifier"
   ]
  },
  {
   "cell_type": "code",
   "execution_count": 3,
   "id": "f2f40944",
   "metadata": {},
   "outputs": [],
   "source": [
    "data_model = load_df_from_mongo('classifier')\n",
    "data_model_copy = data_model.copy()"
   ]
  },
  {
   "cell_type": "code",
   "execution_count": 4,
   "id": "113149de",
   "metadata": {},
   "outputs": [],
   "source": [
    "X = data_model_copy.drop('salary_target',axis=1)\n",
    "y = data_model_copy['salary_target']"
   ]
  },
  {
   "cell_type": "code",
   "execution_count": 5,
   "id": "b9821825",
   "metadata": {},
   "outputs": [
    {
     "name": "stdout",
     "output_type": "stream",
     "text": [
      "Train:  (22792, 10) (22792,)\n",
      "Test:  (9769, 10) (9769,)\n"
     ]
    }
   ],
   "source": [
    "X_train, X_test, y_train, y_test = train_test_split(X, y,\n",
    "                                                    test_size=0.3,\n",
    "                                                    random_state=42)\n",
    "\n",
    "print(\"Train: \",X_train.shape, y_train.shape)\n",
    "print(\"Test: \",X_test.shape, y_test.shape)"
   ]
  },
  {
   "cell_type": "code",
   "execution_count": 6,
   "id": "b0c1ad78",
   "metadata": {},
   "outputs": [],
   "source": [
    "preprocessor = ColumnTransformer(\n",
    "                transformers=[\n",
    "                    (\"num\", StandardScaler(), X_train.select_dtypes(['int','float']).columns),\n",
    "                    (\"cat\", OneHotEncoder(handle_unknown=\"ignore\"),\n",
    "                     X_train.select_dtypes('object').columns),\n",
    "                ])\n",
    "clf = Pipeline(steps=[('preprocessor', preprocessor)])\n",
    "X_train_trans = clf.fit_transform(X_train)\n",
    "\n",
    "trans_col = clf.named_steps['preprocessor'].transformers_[1][1].get_feature_names_out()\n",
    "trans_col = list(X_train.select_dtypes(['int','float']).columns) + list(trans_col)\n",
    "\n",
    "X_train_trans = pd.DataFrame.sparse.from_spmatrix(X_train_trans,\n",
    "                                                     columns=list(trans_col))\n",
    "\n",
    "X_test_trans = clf.transform(X_test)\n",
    "X_test_trans = pd.DataFrame.sparse.from_spmatrix(X_test_trans,\n",
    "                                                     columns=list(trans_col))"
   ]
  },
  {
   "cell_type": "code",
   "execution_count": 7,
   "id": "e3871237",
   "metadata": {},
   "outputs": [
    {
     "name": "stdout",
     "output_type": "stream",
     "text": [
      "Logistic train roc-auc: 0.899133909720813\n",
      "Logistic test roc-auc: 0.89527247031599\n"
     ]
    }
   ],
   "source": [
    "log_classifier=LogisticRegression()\n",
    "log_classifier.fit(X_train_trans, y_train)\n",
    "ytrain_pred = log_classifier.predict_proba(X_train_trans)\n",
    "print('Logistic train roc-auc: {}'.format(roc_auc_score(y_train, ytrain_pred[:,1])))\n",
    "ytest_pred = log_classifier.predict_proba(X_test_trans)\n",
    "print('Logistic test roc-auc: {}'.format(roc_auc_score(y_test, ytest_pred[:,1])))"
   ]
  },
  {
   "cell_type": "markdown",
   "id": "8f2d3c65",
   "metadata": {},
   "source": [
    "### Support vector classifier"
   ]
  },
  {
   "cell_type": "code",
   "execution_count": 8,
   "id": "0882d73c",
   "metadata": {},
   "outputs": [
    {
     "name": "stdout",
     "output_type": "stream",
     "text": [
      "Train:  (22792, 10) (22792,)\n",
      "Test:  (9769, 10) (9769,)\n"
     ]
    }
   ],
   "source": [
    "data_model_copy = data_model.copy()\n",
    "\n",
    "X = data_model_copy.drop('salary_target',axis=1)\n",
    "y = data_model_copy['salary_target']\n",
    "\n",
    "X_train, X_test, y_train, y_test = train_test_split(X, y,\n",
    "                                                    test_size=0.3,\n",
    "                                                    random_state=42)\n",
    "\n",
    "print(\"Train: \",X_train.shape, y_train.shape)\n",
    "print(\"Test: \",X_test.shape, y_test.shape)"
   ]
  },
  {
   "cell_type": "code",
   "execution_count": 9,
   "id": "548d61b7",
   "metadata": {},
   "outputs": [],
   "source": [
    "preprocessor = ColumnTransformer(\n",
    "                transformers=[\n",
    "                    (\"num\", StandardScaler(), X_train.select_dtypes(['int','float']).columns),\n",
    "                    (\"cat\", OneHotEncoder(handle_unknown=\"ignore\"),\n",
    "                     X_train.select_dtypes('object').columns),\n",
    "                ])\n",
    "clf = Pipeline(steps=[('preprocessor', preprocessor),('model',SVC(probability=True))])\n",
    "\n"
   ]
  },
  {
   "cell_type": "code",
   "execution_count": 10,
   "id": "3bc72813",
   "metadata": {},
   "outputs": [],
   "source": [
    "# You can go ahead and try to add addition value and try in different kernels\n",
    "param_grid = {'model__C': [0.1], \n",
    "              'model__gamma': [0.1],\n",
    "              'model__kernel': ['rbf']} \n",
    "# we can add multiple paramter like different kernels and play with gamma value"
   ]
  },
  {
   "cell_type": "code",
   "execution_count": 11,
   "id": "64d0c5ce",
   "metadata": {},
   "outputs": [],
   "source": [
    "grid = GridSearchCV(clf, param_grid, verbose = 3,refit=True)"
   ]
  },
  {
   "cell_type": "code",
   "execution_count": 12,
   "id": "53ca1a3f",
   "metadata": {},
   "outputs": [
    {
     "name": "stdout",
     "output_type": "stream",
     "text": [
      "Fitting 5 folds for each of 1 candidates, totalling 5 fits\n",
      "[CV 1/5] END model__C=0.1, model__gamma=0.1, model__kernel=rbf;, score=0.848 total time= 2.5min\n",
      "[CV 2/5] END model__C=0.1, model__gamma=0.1, model__kernel=rbf;, score=0.847 total time= 3.1min\n",
      "[CV 3/5] END model__C=0.1, model__gamma=0.1, model__kernel=rbf;, score=0.846 total time= 2.8min\n",
      "[CV 4/5] END model__C=0.1, model__gamma=0.1, model__kernel=rbf;, score=0.851 total time= 2.9min\n",
      "[CV 5/5] END model__C=0.1, model__gamma=0.1, model__kernel=rbf;, score=0.846 total time= 4.1min\n"
     ]
    },
    {
     "data": {
      "text/html": [
       "<style>#sk-container-id-1 {color: black;background-color: white;}#sk-container-id-1 pre{padding: 0;}#sk-container-id-1 div.sk-toggleable {background-color: white;}#sk-container-id-1 label.sk-toggleable__label {cursor: pointer;display: block;width: 100%;margin-bottom: 0;padding: 0.3em;box-sizing: border-box;text-align: center;}#sk-container-id-1 label.sk-toggleable__label-arrow:before {content: \"▸\";float: left;margin-right: 0.25em;color: #696969;}#sk-container-id-1 label.sk-toggleable__label-arrow:hover:before {color: black;}#sk-container-id-1 div.sk-estimator:hover label.sk-toggleable__label-arrow:before {color: black;}#sk-container-id-1 div.sk-toggleable__content {max-height: 0;max-width: 0;overflow: hidden;text-align: left;background-color: #f0f8ff;}#sk-container-id-1 div.sk-toggleable__content pre {margin: 0.2em;color: black;border-radius: 0.25em;background-color: #f0f8ff;}#sk-container-id-1 input.sk-toggleable__control:checked~div.sk-toggleable__content {max-height: 200px;max-width: 100%;overflow: auto;}#sk-container-id-1 input.sk-toggleable__control:checked~label.sk-toggleable__label-arrow:before {content: \"▾\";}#sk-container-id-1 div.sk-estimator input.sk-toggleable__control:checked~label.sk-toggleable__label {background-color: #d4ebff;}#sk-container-id-1 div.sk-label input.sk-toggleable__control:checked~label.sk-toggleable__label {background-color: #d4ebff;}#sk-container-id-1 input.sk-hidden--visually {border: 0;clip: rect(1px 1px 1px 1px);clip: rect(1px, 1px, 1px, 1px);height: 1px;margin: -1px;overflow: hidden;padding: 0;position: absolute;width: 1px;}#sk-container-id-1 div.sk-estimator {font-family: monospace;background-color: #f0f8ff;border: 1px dotted black;border-radius: 0.25em;box-sizing: border-box;margin-bottom: 0.5em;}#sk-container-id-1 div.sk-estimator:hover {background-color: #d4ebff;}#sk-container-id-1 div.sk-parallel-item::after {content: \"\";width: 100%;border-bottom: 1px solid gray;flex-grow: 1;}#sk-container-id-1 div.sk-label:hover label.sk-toggleable__label {background-color: #d4ebff;}#sk-container-id-1 div.sk-serial::before {content: \"\";position: absolute;border-left: 1px solid gray;box-sizing: border-box;top: 0;bottom: 0;left: 50%;z-index: 0;}#sk-container-id-1 div.sk-serial {display: flex;flex-direction: column;align-items: center;background-color: white;padding-right: 0.2em;padding-left: 0.2em;position: relative;}#sk-container-id-1 div.sk-item {position: relative;z-index: 1;}#sk-container-id-1 div.sk-parallel {display: flex;align-items: stretch;justify-content: center;background-color: white;position: relative;}#sk-container-id-1 div.sk-item::before, #sk-container-id-1 div.sk-parallel-item::before {content: \"\";position: absolute;border-left: 1px solid gray;box-sizing: border-box;top: 0;bottom: 0;left: 50%;z-index: -1;}#sk-container-id-1 div.sk-parallel-item {display: flex;flex-direction: column;z-index: 1;position: relative;background-color: white;}#sk-container-id-1 div.sk-parallel-item:first-child::after {align-self: flex-end;width: 50%;}#sk-container-id-1 div.sk-parallel-item:last-child::after {align-self: flex-start;width: 50%;}#sk-container-id-1 div.sk-parallel-item:only-child::after {width: 0;}#sk-container-id-1 div.sk-dashed-wrapped {border: 1px dashed gray;margin: 0 0.4em 0.5em 0.4em;box-sizing: border-box;padding-bottom: 0.4em;background-color: white;}#sk-container-id-1 div.sk-label label {font-family: monospace;font-weight: bold;display: inline-block;line-height: 1.2em;}#sk-container-id-1 div.sk-label-container {text-align: center;}#sk-container-id-1 div.sk-container {/* jupyter's `normalize.less` sets `[hidden] { display: none; }` but bootstrap.min.css set `[hidden] { display: none !important; }` so we also need the `!important` here to be able to override the default hidden behavior on the sphinx rendered scikit-learn.org. See: https://github.com/scikit-learn/scikit-learn/issues/21755 */display: inline-block !important;position: relative;}#sk-container-id-1 div.sk-text-repr-fallback {display: none;}</style><div id=\"sk-container-id-1\" class=\"sk-top-container\"><div class=\"sk-text-repr-fallback\"><pre>GridSearchCV(estimator=Pipeline(steps=[(&#x27;preprocessor&#x27;,\n",
       "                                        ColumnTransformer(transformers=[(&#x27;num&#x27;,\n",
       "                                                                         StandardScaler(),\n",
       "                                                                         Index([&#x27;age&#x27;, &#x27;education-num&#x27;, &#x27;sex&#x27;, &#x27;hours-per-week&#x27;, &#x27;capital.income&#x27;,\n",
       "       &#x27;is_married&#x27;, &#x27;husband_or_wife&#x27;],\n",
       "      dtype=&#x27;object&#x27;)),\n",
       "                                                                        (&#x27;cat&#x27;,\n",
       "                                                                         OneHotEncoder(handle_unknown=&#x27;ignore&#x27;),\n",
       "                                                                         Index([&#x27;workclass&#x27;, &#x27;occupation&#x27;, &#x27;race&#x27;], dtype=&#x27;object&#x27;))])),\n",
       "                                       (&#x27;model&#x27;, SVC(probability=True))]),\n",
       "             param_grid={&#x27;model__C&#x27;: [0.1], &#x27;model__gamma&#x27;: [0.1],\n",
       "                         &#x27;model__kernel&#x27;: [&#x27;rbf&#x27;]},\n",
       "             verbose=3)</pre><b>In a Jupyter environment, please rerun this cell to show the HTML representation or trust the notebook. <br />On GitHub, the HTML representation is unable to render, please try loading this page with nbviewer.org.</b></div><div class=\"sk-container\" hidden><div class=\"sk-item sk-dashed-wrapped\"><div class=\"sk-label-container\"><div class=\"sk-label sk-toggleable\"><input class=\"sk-toggleable__control sk-hidden--visually\" id=\"sk-estimator-id-1\" type=\"checkbox\" ><label for=\"sk-estimator-id-1\" class=\"sk-toggleable__label sk-toggleable__label-arrow\">GridSearchCV</label><div class=\"sk-toggleable__content\"><pre>GridSearchCV(estimator=Pipeline(steps=[(&#x27;preprocessor&#x27;,\n",
       "                                        ColumnTransformer(transformers=[(&#x27;num&#x27;,\n",
       "                                                                         StandardScaler(),\n",
       "                                                                         Index([&#x27;age&#x27;, &#x27;education-num&#x27;, &#x27;sex&#x27;, &#x27;hours-per-week&#x27;, &#x27;capital.income&#x27;,\n",
       "       &#x27;is_married&#x27;, &#x27;husband_or_wife&#x27;],\n",
       "      dtype=&#x27;object&#x27;)),\n",
       "                                                                        (&#x27;cat&#x27;,\n",
       "                                                                         OneHotEncoder(handle_unknown=&#x27;ignore&#x27;),\n",
       "                                                                         Index([&#x27;workclass&#x27;, &#x27;occupation&#x27;, &#x27;race&#x27;], dtype=&#x27;object&#x27;))])),\n",
       "                                       (&#x27;model&#x27;, SVC(probability=True))]),\n",
       "             param_grid={&#x27;model__C&#x27;: [0.1], &#x27;model__gamma&#x27;: [0.1],\n",
       "                         &#x27;model__kernel&#x27;: [&#x27;rbf&#x27;]},\n",
       "             verbose=3)</pre></div></div></div><div class=\"sk-parallel\"><div class=\"sk-parallel-item\"><div class=\"sk-item\"><div class=\"sk-label-container\"><div class=\"sk-label sk-toggleable\"><input class=\"sk-toggleable__control sk-hidden--visually\" id=\"sk-estimator-id-2\" type=\"checkbox\" ><label for=\"sk-estimator-id-2\" class=\"sk-toggleable__label sk-toggleable__label-arrow\">estimator: Pipeline</label><div class=\"sk-toggleable__content\"><pre>Pipeline(steps=[(&#x27;preprocessor&#x27;,\n",
       "                 ColumnTransformer(transformers=[(&#x27;num&#x27;, StandardScaler(),\n",
       "                                                  Index([&#x27;age&#x27;, &#x27;education-num&#x27;, &#x27;sex&#x27;, &#x27;hours-per-week&#x27;, &#x27;capital.income&#x27;,\n",
       "       &#x27;is_married&#x27;, &#x27;husband_or_wife&#x27;],\n",
       "      dtype=&#x27;object&#x27;)),\n",
       "                                                 (&#x27;cat&#x27;,\n",
       "                                                  OneHotEncoder(handle_unknown=&#x27;ignore&#x27;),\n",
       "                                                  Index([&#x27;workclass&#x27;, &#x27;occupation&#x27;, &#x27;race&#x27;], dtype=&#x27;object&#x27;))])),\n",
       "                (&#x27;model&#x27;, SVC(probability=True))])</pre></div></div></div><div class=\"sk-serial\"><div class=\"sk-item\"><div class=\"sk-serial\"><div class=\"sk-item sk-dashed-wrapped\"><div class=\"sk-label-container\"><div class=\"sk-label sk-toggleable\"><input class=\"sk-toggleable__control sk-hidden--visually\" id=\"sk-estimator-id-3\" type=\"checkbox\" ><label for=\"sk-estimator-id-3\" class=\"sk-toggleable__label sk-toggleable__label-arrow\">preprocessor: ColumnTransformer</label><div class=\"sk-toggleable__content\"><pre>ColumnTransformer(transformers=[(&#x27;num&#x27;, StandardScaler(),\n",
       "                                 Index([&#x27;age&#x27;, &#x27;education-num&#x27;, &#x27;sex&#x27;, &#x27;hours-per-week&#x27;, &#x27;capital.income&#x27;,\n",
       "       &#x27;is_married&#x27;, &#x27;husband_or_wife&#x27;],\n",
       "      dtype=&#x27;object&#x27;)),\n",
       "                                (&#x27;cat&#x27;, OneHotEncoder(handle_unknown=&#x27;ignore&#x27;),\n",
       "                                 Index([&#x27;workclass&#x27;, &#x27;occupation&#x27;, &#x27;race&#x27;], dtype=&#x27;object&#x27;))])</pre></div></div></div><div class=\"sk-parallel\"><div class=\"sk-parallel-item\"><div class=\"sk-item\"><div class=\"sk-label-container\"><div class=\"sk-label sk-toggleable\"><input class=\"sk-toggleable__control sk-hidden--visually\" id=\"sk-estimator-id-4\" type=\"checkbox\" ><label for=\"sk-estimator-id-4\" class=\"sk-toggleable__label sk-toggleable__label-arrow\">num</label><div class=\"sk-toggleable__content\"><pre>Index([&#x27;age&#x27;, &#x27;education-num&#x27;, &#x27;sex&#x27;, &#x27;hours-per-week&#x27;, &#x27;capital.income&#x27;,\n",
       "       &#x27;is_married&#x27;, &#x27;husband_or_wife&#x27;],\n",
       "      dtype=&#x27;object&#x27;)</pre></div></div></div><div class=\"sk-serial\"><div class=\"sk-item\"><div class=\"sk-estimator sk-toggleable\"><input class=\"sk-toggleable__control sk-hidden--visually\" id=\"sk-estimator-id-5\" type=\"checkbox\" ><label for=\"sk-estimator-id-5\" class=\"sk-toggleable__label sk-toggleable__label-arrow\">StandardScaler</label><div class=\"sk-toggleable__content\"><pre>StandardScaler()</pre></div></div></div></div></div></div><div class=\"sk-parallel-item\"><div class=\"sk-item\"><div class=\"sk-label-container\"><div class=\"sk-label sk-toggleable\"><input class=\"sk-toggleable__control sk-hidden--visually\" id=\"sk-estimator-id-6\" type=\"checkbox\" ><label for=\"sk-estimator-id-6\" class=\"sk-toggleable__label sk-toggleable__label-arrow\">cat</label><div class=\"sk-toggleable__content\"><pre>Index([&#x27;workclass&#x27;, &#x27;occupation&#x27;, &#x27;race&#x27;], dtype=&#x27;object&#x27;)</pre></div></div></div><div class=\"sk-serial\"><div class=\"sk-item\"><div class=\"sk-estimator sk-toggleable\"><input class=\"sk-toggleable__control sk-hidden--visually\" id=\"sk-estimator-id-7\" type=\"checkbox\" ><label for=\"sk-estimator-id-7\" class=\"sk-toggleable__label sk-toggleable__label-arrow\">OneHotEncoder</label><div class=\"sk-toggleable__content\"><pre>OneHotEncoder(handle_unknown=&#x27;ignore&#x27;)</pre></div></div></div></div></div></div></div></div><div class=\"sk-item\"><div class=\"sk-estimator sk-toggleable\"><input class=\"sk-toggleable__control sk-hidden--visually\" id=\"sk-estimator-id-8\" type=\"checkbox\" ><label for=\"sk-estimator-id-8\" class=\"sk-toggleable__label sk-toggleable__label-arrow\">SVC</label><div class=\"sk-toggleable__content\"><pre>SVC(probability=True)</pre></div></div></div></div></div></div></div></div></div></div></div></div>"
      ],
      "text/plain": [
       "GridSearchCV(estimator=Pipeline(steps=[('preprocessor',\n",
       "                                        ColumnTransformer(transformers=[('num',\n",
       "                                                                         StandardScaler(),\n",
       "                                                                         Index(['age', 'education-num', 'sex', 'hours-per-week', 'capital.income',\n",
       "       'is_married', 'husband_or_wife'],\n",
       "      dtype='object')),\n",
       "                                                                        ('cat',\n",
       "                                                                         OneHotEncoder(handle_unknown='ignore'),\n",
       "                                                                         Index(['workclass', 'occupation', 'race'], dtype='object'))])),\n",
       "                                       ('model', SVC(probability=True))]),\n",
       "             param_grid={'model__C': [0.1], 'model__gamma': [0.1],\n",
       "                         'model__kernel': ['rbf']},\n",
       "             verbose=3)"
      ]
     },
     "execution_count": 12,
     "metadata": {},
     "output_type": "execute_result"
    }
   ],
   "source": [
    "grid.fit(X_train, y_train)"
   ]
  },
  {
   "cell_type": "code",
   "execution_count": 13,
   "id": "01ae05c4",
   "metadata": {},
   "outputs": [
    {
     "name": "stdout",
     "output_type": "stream",
     "text": [
      "Logistic train roc-auc: 0.899133909720813\n",
      "Logistic test roc-auc: 0.89527247031599\n"
     ]
    }
   ],
   "source": [
    "ytrain_pred_sv = grid.predict_proba(X_train)\n",
    "print('Logistic train roc-auc: {}'.format(roc_auc_score(y_train, ytrain_pred[:,1])))\n",
    "ytest_pred_sv = grid.predict_proba(X_test)\n",
    "print('Logistic test roc-auc: {}'.format(roc_auc_score(y_test, ytest_pred[:,1])))"
   ]
  },
  {
   "cell_type": "markdown",
   "id": "352271f8",
   "metadata": {},
   "source": [
    "## roc curve for logisitc classification and support vector classifier\n",
    "\n",
    "### logistic regression"
   ]
  },
  {
   "cell_type": "code",
   "execution_count": 14,
   "id": "616e0774",
   "metadata": {},
   "outputs": [
    {
     "name": "stdout",
     "output_type": "stream",
     "text": [
      "Ensemble test roc-auc: 0.89527247031599\n"
     ]
    }
   ],
   "source": [
    "pred=[]\n",
    "for model in [log_classifier]:\n",
    "    pred.append(pd.Series(model.predict_proba(X_test_trans)[:,1]))\n",
    "final_prediction_log=pd.concat(pred,axis=1).mean(axis=1)\n",
    "print('Ensemble test roc-auc: {}'.format(roc_auc_score(y_test,final_prediction_log)))"
   ]
  },
  {
   "cell_type": "code",
   "execution_count": 24,
   "id": "794bbc04",
   "metadata": {},
   "outputs": [
    {
     "data": {
      "text/plain": [
       "array([2.00000000e+00, 1.00000000e+00, 9.85024677e-01, ...,\n",
       "       1.37451184e-03, 1.36103473e-03, 3.02879788e-04])"
      ]
     },
     "execution_count": 24,
     "metadata": {},
     "output_type": "execute_result"
    }
   ],
   "source": [
    "fpr, tpr, thresholds = roc_curve(y_test, final_prediction_log)\n",
    "thresholds"
   ]
  },
  {
   "cell_type": "code",
   "execution_count": 16,
   "id": "67bedfd1",
   "metadata": {},
   "outputs": [
    {
     "data": {
      "text/html": [
       "<div>\n",
       "<style scoped>\n",
       "    .dataframe tbody tr th:only-of-type {\n",
       "        vertical-align: middle;\n",
       "    }\n",
       "\n",
       "    .dataframe tbody tr th {\n",
       "        vertical-align: top;\n",
       "    }\n",
       "\n",
       "    .dataframe thead th {\n",
       "        text-align: right;\n",
       "    }\n",
       "</style>\n",
       "<table border=\"1\" class=\"dataframe\">\n",
       "  <thead>\n",
       "    <tr style=\"text-align: right;\">\n",
       "      <th></th>\n",
       "      <th>thresholds</th>\n",
       "      <th>accuracy</th>\n",
       "    </tr>\n",
       "  </thead>\n",
       "  <tbody>\n",
       "    <tr>\n",
       "      <th>645</th>\n",
       "      <td>0.544673</td>\n",
       "      <td>0.849217</td>\n",
       "    </tr>\n",
       "    <tr>\n",
       "      <th>653</th>\n",
       "      <td>0.542377</td>\n",
       "      <td>0.849217</td>\n",
       "    </tr>\n",
       "    <tr>\n",
       "      <th>651</th>\n",
       "      <td>0.542765</td>\n",
       "      <td>0.849217</td>\n",
       "    </tr>\n",
       "    <tr>\n",
       "      <th>650</th>\n",
       "      <td>0.542937</td>\n",
       "      <td>0.849217</td>\n",
       "    </tr>\n",
       "    <tr>\n",
       "      <th>649</th>\n",
       "      <td>0.543320</td>\n",
       "      <td>0.849217</td>\n",
       "    </tr>\n",
       "  </tbody>\n",
       "</table>\n",
       "</div>"
      ],
      "text/plain": [
       "     thresholds  accuracy\n",
       "645    0.544673  0.849217\n",
       "653    0.542377  0.849217\n",
       "651    0.542765  0.849217\n",
       "650    0.542937  0.849217\n",
       "649    0.543320  0.849217"
      ]
     },
     "execution_count": 16,
     "metadata": {},
     "output_type": "execute_result"
    }
   ],
   "source": [
    "accuracy_ls = []\n",
    "for thres in thresholds:\n",
    "    y_pred = np.where(final_prediction_log>thres,1,0)\n",
    "    accuracy_ls.append(accuracy_score(y_test, y_pred, normalize=True))\n",
    "    \n",
    "accuracy_ls = pd.concat([pd.Series(thresholds), pd.Series(accuracy_ls)],\n",
    "                        axis=1)\n",
    "accuracy_ls.columns = ['thresholds', 'accuracy']\n",
    "accuracy_ls.sort_values(by='accuracy', ascending=False, inplace=True)\n",
    "accuracy_ls.head()"
   ]
  },
  {
   "cell_type": "code",
   "execution_count": 17,
   "id": "421f2950",
   "metadata": {},
   "outputs": [],
   "source": [
    "def plot_roc_curve(fpr, tpr):\n",
    "    plt.plot(fpr, tpr, color='orange', label='ROC')\n",
    "    plt.plot([0, 1], [0, 1], color='darkblue', linestyle='--')\n",
    "    plt.xlabel('False Positive Rate')\n",
    "    plt.ylabel('True Positive Rate')\n",
    "    plt.title('Receiver Operating Characteristic (ROC) Curve')\n",
    "    plt.legend()\n",
    "    plt.show()"
   ]
  },
  {
   "cell_type": "code",
   "execution_count": 25,
   "id": "499938ad",
   "metadata": {},
   "outputs": [
    {
     "data": {
      "image/png": "[encoded data removed]",
      "text/plain": [
       "<Figure size 432x288 with 1 Axes>"
      ]
     },
     "metadata": {
      "needs_background": "light"
     },
     "output_type": "display_data"
    }
   ],
   "source": [
    "plot_roc_curve(fpr,tpr)"
   ]
  },
  {
   "cell_type": "markdown",
   "id": "ce59e686",
   "metadata": {},
   "source": [
    "### Support vector classifier"
   ]
  },
  {
   "cell_type": "code",
   "execution_count": 18,
   "id": "55bbbe3e",
   "metadata": {},
   "outputs": [
    {
     "name": "stdout",
     "output_type": "stream",
     "text": [
      "Ensemble test roc-auc: 0.88369119934241\n"
     ]
    }
   ],
   "source": [
    "pred=[]\n",
    "for model in [grid]:\n",
    "    pred.append(pd.Series(model.predict_proba(X_test)[:,1]))\n",
    "final_prediction_sv=pd.concat(pred,axis=1).mean(axis=1)\n",
    "print('Ensemble test roc-auc: {}'.format(roc_auc_score(y_test,final_prediction_sv)))"
   ]
  },
  {
   "cell_type": "code",
   "execution_count": 19,
   "id": "47b803b5",
   "metadata": {},
   "outputs": [
    {
     "data": {
      "text/plain": [
       "array([2.00000000e+00, 1.00000000e+00, 9.85024677e-01, ...,\n",
       "       1.37451184e-03, 1.36103473e-03, 3.02879788e-04])"
      ]
     },
     "execution_count": 19,
     "metadata": {},
     "output_type": "execute_result"
    }
   ],
   "source": [
    "fpr, tpr, thresholds = roc_curve(y_test, final_prediction_log)\n",
    "thresholds"
   ]
  },
  {
   "cell_type": "code",
   "execution_count": 20,
   "id": "ec1d9237",
   "metadata": {},
   "outputs": [
    {
     "data": {
      "text/html": [
       "<div>\n",
       "<style scoped>\n",
       "    .dataframe tbody tr th:only-of-type {\n",
       "        vertical-align: middle;\n",
       "    }\n",
       "\n",
       "    .dataframe tbody tr th {\n",
       "        vertical-align: top;\n",
       "    }\n",
       "\n",
       "    .dataframe thead th {\n",
       "        text-align: right;\n",
       "    }\n",
       "</style>\n",
       "<table border=\"1\" class=\"dataframe\">\n",
       "  <thead>\n",
       "    <tr style=\"text-align: right;\">\n",
       "      <th></th>\n",
       "      <th>thresholds</th>\n",
       "      <th>accuracy</th>\n",
       "    </tr>\n",
       "  </thead>\n",
       "  <tbody>\n",
       "    <tr>\n",
       "      <th>1120</th>\n",
       "      <td>0.351548</td>\n",
       "      <td>0.854438</td>\n",
       "    </tr>\n",
       "    <tr>\n",
       "      <th>1119</th>\n",
       "      <td>0.352703</td>\n",
       "      <td>0.854438</td>\n",
       "    </tr>\n",
       "    <tr>\n",
       "      <th>1121</th>\n",
       "      <td>0.351412</td>\n",
       "      <td>0.854438</td>\n",
       "    </tr>\n",
       "    <tr>\n",
       "      <th>1117</th>\n",
       "      <td>0.353160</td>\n",
       "      <td>0.854335</td>\n",
       "    </tr>\n",
       "    <tr>\n",
       "      <th>1118</th>\n",
       "      <td>0.353064</td>\n",
       "      <td>0.854335</td>\n",
       "    </tr>\n",
       "  </tbody>\n",
       "</table>\n",
       "</div>"
      ],
      "text/plain": [
       "      thresholds  accuracy\n",
       "1120    0.351548  0.854438\n",
       "1119    0.352703  0.854438\n",
       "1121    0.351412  0.854438\n",
       "1117    0.353160  0.854335\n",
       "1118    0.353064  0.854335"
      ]
     },
     "execution_count": 20,
     "metadata": {},
     "output_type": "execute_result"
    }
   ],
   "source": [
    "accuracy_ls = []\n",
    "for thres in thresholds:\n",
    "    y_pred = np.where(final_prediction_sv>thres,1,0)\n",
    "    accuracy_ls.append(accuracy_score(y_test, y_pred, normalize=True))\n",
    "    \n",
    "accuracy_ls = pd.concat([pd.Series(thresholds), pd.Series(accuracy_ls)],\n",
    "                        axis=1)\n",
    "accuracy_ls.columns = ['thresholds', 'accuracy']\n",
    "accuracy_ls.sort_values(by='accuracy', ascending=False, inplace=True)\n",
    "accuracy_ls.head()"
   ]
  },
  {
   "cell_type": "code",
   "execution_count": 23,
   "id": "f838ef44",
   "metadata": {},
   "outputs": [
    {
     "data": {
      "image/png": "[encoded data removed]",
      "text/plain": [
       "<Figure size 432x288 with 1 Axes>"
      ]
     },
     "metadata": {
      "needs_background": "light"
     },
     "output_type": "display_data"
    }
   ],
   "source": [
    "plot_roc_curve(fpr,tpr)"
   ]
  },
  {
   "cell_type": "markdown",
   "id": "edc75507",
   "metadata": {},
   "source": [
    "### pickling the model for later use"
   ]
  },
  {
   "cell_type": "code",
   "execution_count": 27,
   "id": "448659ee",
   "metadata": {},
   "outputs": [],
   "source": [
    "pickle.dump(log_classifier, open('logistic_classifier.pkl', 'wb'))\n",
    "pickle.dump(grid, open('support_vector_classifier.pkl', 'wb'))"
   ]
  },
  {
   "cell_type": "code",
   "execution_count": null,
   "id": "2aab63cc",
   "metadata": {},
   "outputs": [],
   "source": []
  }
 ],
 "metadata": {
  "kernelspec": {
   "display_name": "reserve",
   "language": "python",
   "name": "reserve"
  },
  "language_info": {
   "codemirror_mode": {
    "name": "ipython",
    "version": 3
   },
   "file_extension": ".py",
   "mimetype": "text/x-python",
   "name": "python",
   "nbconvert_exporter": "python",
   "pygments_lexer": "ipython3",
   "version": "3.10.4"
  }
 },
 "nbformat": 4,
 "nbformat_minor": 5
}

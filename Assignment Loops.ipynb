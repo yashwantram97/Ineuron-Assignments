{
 "cells": [
  {
   "cell_type": "code",
   "execution_count": 1,
   "metadata": {},
   "outputs": [],
   "source": [
    "l = [[1,2,3,4],(2,3,4,5,6),(3,4,5,6,7),set([23,4,5,45,4,4,5,45,45,4,5]),{'k1':'sudh','k2':'ineuron','k3':\"kumar\",3:6,7:8},[\"ineuron\",\"datascience\"]]"
   ]
  },
  {
   "cell_type": "markdown",
   "metadata": {},
   "source": [
    "## Question 1:\n",
    "ineruon \n",
    "ineruon ineruon \n",
    "ineruon ineruon ineruon\n",
    "ineruon ineruon ineruon ineruon"
   ]
  },
  {
   "cell_type": "code",
   "execution_count": 3,
   "metadata": {},
   "outputs": [
    {
     "name": "stdout",
     "output_type": "stream",
     "text": [
      "ineruon \n",
      "ineruon ineruon \n",
      "ineruon ineruon ineruon \n",
      "ineruon ineruon ineruon ineruon \n"
     ]
    }
   ],
   "source": [
    "n = 4\n",
    "string = \"ineruon \"\n",
    "for i in range(1,n+1):\n",
    "    print(string*i)"
   ]
  },
  {
   "cell_type": "markdown",
   "metadata": {},
   "source": [
    "## question 2- \n",
    "\n",
    "          ineruon\n",
    "    ineruon      ineruon\n",
    "ineruon    ineruon    ineruon\n",
    "    ineruon      ineruon\n",
    "           ineruon"
   ]
  },
  {
   "cell_type": "code",
   "execution_count": 27,
   "metadata": {},
   "outputs": [
    {
     "name": "stdout",
     "output_type": "stream",
     "text": [
      "            ineuron\n",
      "      ineuron      ineuron\n",
      "ineuron     ineuron     ineuron     \n",
      "      ineuron      ineuron\n",
      "            ineuron\n"
     ]
    }
   ],
   "source": [
    "n = 5\n",
    "string = \"ineuron\"\n",
    "\n",
    "for i in range(0,n):\n",
    "    space = abs(int(n/2) - i)\n",
    "    secondLoop = abs(space - int(n/2))\n",
    "    for j in range(0, secondLoop+1):\n",
    "        if space == 0:\n",
    "            print(string,end=\"     \")\n",
    "        else:\n",
    "            print((\"      \"*space)+string,end=\"\")\n",
    "    print()"
   ]
  },
  {
   "cell_type": "markdown",
   "metadata": {},
   "source": [
    "## q3 : Try to extract all the list entity "
   ]
  },
  {
   "cell_type": "code",
   "execution_count": 28,
   "metadata": {},
   "outputs": [
    {
     "name": "stdout",
     "output_type": "stream",
     "text": [
      "[1, 2, 3, 4]\n",
      "['ineuron', 'datascience']\n"
     ]
    }
   ],
   "source": [
    "for i in l:\n",
    "    if type(i) == list:\n",
    "        print(i)"
   ]
  },
  {
   "cell_type": "markdown",
   "metadata": {},
   "source": [
    "## q4 : Try to extract all the dict enteties"
   ]
  },
  {
   "cell_type": "code",
   "execution_count": 29,
   "metadata": {},
   "outputs": [
    {
     "name": "stdout",
     "output_type": "stream",
     "text": [
      "{'k1': 'sudh', 'k2': 'ineuron', 'k3': 'kumar', 3: 6, 7: 8}\n"
     ]
    }
   ],
   "source": [
    "for i in l:\n",
    "    if type(i) == dict:\n",
    "        print(i)"
   ]
  },
  {
   "cell_type": "markdown",
   "metadata": {},
   "source": [
    "## q5 : Try to extract all the tuples entities"
   ]
  },
  {
   "cell_type": "code",
   "execution_count": 30,
   "metadata": {},
   "outputs": [
    {
     "name": "stdout",
     "output_type": "stream",
     "text": [
      "(2, 3, 4, 5, 6)\n",
      "(3, 4, 5, 6, 7)\n"
     ]
    }
   ],
   "source": [
    "for i in l:\n",
    "    if type(i) == tuple:\n",
    "        print(i)"
   ]
  },
  {
   "cell_type": "markdown",
   "metadata": {},
   "source": [
    "## q6 : Try to extract all the numerical data it may b a part of dict key and values "
   ]
  },
  {
   "cell_type": "code",
   "execution_count": 32,
   "metadata": {},
   "outputs": [
    {
     "name": "stdout",
     "output_type": "stream",
     "text": [
      "[1, 2, 3, 4, 2, 3, 4, 5, 6, 3, 4, 5, 6, 7, 45, 4, 5, 23, 3, 6, 7, 8]\n"
     ]
    }
   ],
   "source": [
    "iters = [str,list,dict,tuple,set]\n",
    "numerics = []\n",
    "for i in l:\n",
    "    if type(i) in iters:\n",
    "        if type(i) == dict:\n",
    "            for key in i:\n",
    "                if type(key) == int:\n",
    "                    numerics.append(key)\n",
    "                if type(i[key]) == int:\n",
    "                    numerics.append(i[key])\n",
    "        else:\n",
    "            for key in i:\n",
    "                if type(key) == int:\n",
    "                    numerics.append(key)\n",
    "    elif type(i) == int:\n",
    "        numerics.append(i)\n",
    "\n",
    "print(numerics)"
   ]
  },
  {
   "cell_type": "markdown",
   "metadata": {},
   "source": [
    "## q7 : Try to give summation of all the numeric data "
   ]
  },
  {
   "cell_type": "code",
   "execution_count": 33,
   "metadata": {},
   "outputs": [
    {
     "name": "stdout",
     "output_type": "stream",
     "text": [
      "156\n"
     ]
    }
   ],
   "source": [
    "iters = [str,list,dict,tuple,set]\n",
    "numerics = []\n",
    "for i in l:\n",
    "    if type(i) in iters:\n",
    "        if type(i) == dict:\n",
    "            for key in i:\n",
    "                if type(key) == int:\n",
    "                    numerics.append(key)\n",
    "                if type(i[key]) == int:\n",
    "                    numerics.append(i[key])\n",
    "        else:\n",
    "            for key in i:\n",
    "                if type(key) == int:\n",
    "                    numerics.append(key)\n",
    "    elif type(i) == int:\n",
    "        numerics.append(i)\n",
    "\n",
    "print(sum(numerics))"
   ]
  },
  {
   "cell_type": "markdown",
   "metadata": {},
   "source": [
    "## q8 : Try to filter out all the odd values out all numeric data which is a part of a list "
   ]
  },
  {
   "cell_type": "code",
   "execution_count": 34,
   "metadata": {},
   "outputs": [
    {
     "name": "stdout",
     "output_type": "stream",
     "text": [
      "[1, 3]\n"
     ]
    }
   ],
   "source": [
    "odd = []\n",
    "for i in l:\n",
    "    if type(i) == list:\n",
    "        for j in i:\n",
    "            if type(j) == int:\n",
    "                if j%2 != 0:\n",
    "                    odd.append(j)\n",
    "print(odd)"
   ]
  },
  {
   "cell_type": "markdown",
   "metadata": {},
   "source": [
    "## q9 : Try to extract \"ineruon\" out of this data"
   ]
  },
  {
   "cell_type": "code",
   "execution_count": 37,
   "metadata": {},
   "outputs": [
    {
     "name": "stdout",
     "output_type": "stream",
     "text": [
      "['ineuron', 'ineuron']\n"
     ]
    }
   ],
   "source": [
    "iters = [str,list,dict,tuple,set]\n",
    "ineuron = []\n",
    "for i in l:\n",
    "    if type(i) in iters:\n",
    "        if type(i) == dict:\n",
    "            for key in i:\n",
    "                if key == \"ineuron\":\n",
    "                    ineuron.append(key)\n",
    "                if i[key] == \"ineuron\":\n",
    "                    ineuron.append(i[key])\n",
    "        else:\n",
    "            for key in i:\n",
    "                if key == \"ineuron\":\n",
    "                    ineuron.append(key)\n",
    "    elif i == \"ineuron\":\n",
    "        inueron.append(i)\n",
    "\n",
    "print(ineuron)"
   ]
  },
  {
   "cell_type": "markdown",
   "metadata": {},
   "source": [
    "## q10 :Try to find out a number of occurances of all the data "
   ]
  },
  {
   "cell_type": "code",
   "execution_count": 47,
   "metadata": {},
   "outputs": [
    {
     "name": "stdout",
     "output_type": "stream",
     "text": [
      "1 1\n",
      "2 2\n",
      "3 4\n",
      "4 4\n",
      "5 3\n",
      "6 3\n",
      "7 2\n",
      "sudh 1\n",
      "8 1\n",
      "datascience 1\n",
      "45 1\n",
      "k3 1\n",
      "ineuron 2\n",
      "23 1\n",
      "k2 1\n",
      "k1 1\n",
      "kumar 1\n"
     ]
    }
   ],
   "source": [
    "iters = [str,list,dict,tuple,set]\n",
    "occurence = []\n",
    "for i in l:\n",
    "    if type(i) in iters:\n",
    "        if type(i) == dict:\n",
    "            for key in i:\n",
    "                occurence.append(key)\n",
    "                occurence.append(i[key])\n",
    "        else:\n",
    "            for key in i:\n",
    "                occurence.append(key)\n",
    "    else:\n",
    "        occurence.append(i)\n",
    "\n",
    "occ = list(set(occurence))\n",
    "for so in occ:\n",
    "    count = 0\n",
    "    for lo in occurence:\n",
    "        if lo == so:\n",
    "            count += 1\n",
    "    print(so,count)"
   ]
  },
  {
   "cell_type": "markdown",
   "metadata": {},
   "source": [
    "## q11 : Try to find out number of keys in dict element"
   ]
  },
  {
   "cell_type": "code",
   "execution_count": 49,
   "metadata": {},
   "outputs": [
    {
     "name": "stdout",
     "output_type": "stream",
     "text": [
      "5\n"
     ]
    }
   ],
   "source": [
    "ineuron = []\n",
    "for i in l:\n",
    "    if type(i) == dict:\n",
    "        print(len(i))"
   ]
  },
  {
   "cell_type": "markdown",
   "metadata": {},
   "source": [
    "## q12 : Try to filter out all the string data "
   ]
  },
  {
   "cell_type": "code",
   "execution_count": 53,
   "metadata": {},
   "outputs": [
    {
     "name": "stdout",
     "output_type": "stream",
     "text": [
      "['k1', 'sudh', 'k2', 'ineuron', 'k3', 'kumar', 'ineuron', 'datascience']\n"
     ]
    }
   ],
   "source": [
    "iters = [list,dict,tuple,set]\n",
    "strings = []\n",
    "for i in l:\n",
    "    if type(i) in iters:\n",
    "        if type(i) == dict:\n",
    "            for key in i:\n",
    "                if type(key) == str and key.isalnum():\n",
    "                    strings.append(key)\n",
    "                if type(i[key]) == str and key.isalnum():\n",
    "                    strings.append(i[key])\n",
    "        else:\n",
    "            for key in i:\n",
    "                if type(key) == str and key.isalnum():\n",
    "                    strings.append(key)\n",
    "    elif type(i) == str and key.isalnum():\n",
    "        strings.append(i)\n",
    "\n",
    "print(strings)"
   ]
  },
  {
   "cell_type": "markdown",
   "metadata": {},
   "source": [
    "## q14 : Try to find out multiplication of all numeric value in  the individual collection inside dataset \n"
   ]
  },
  {
   "cell_type": "code",
   "execution_count": 55,
   "metadata": {},
   "outputs": [
    {
     "name": "stdout",
     "output_type": "stream",
     "text": [
      "[1, 2, 3, 4] 24\n",
      "(2, 3, 4, 5, 6) 720\n",
      "(3, 4, 5, 6, 7) 2520\n",
      "{45, 4, 5, 23} 20700\n",
      "{'k1': 'sudh', 'k2': 'ineuron', 'k3': 'kumar', 3: 6, 7: 8} 1008\n"
     ]
    }
   ],
   "source": [
    "iters = [list,dict,tuple,set]\n",
    "for i in l:\n",
    "    prod = 1\n",
    "    if type(i) in iters:\n",
    "        if type(i) == dict:\n",
    "            for key in i:\n",
    "                if type(key) == int:\n",
    "                    prod = prod * key\n",
    "                if type(i[key]) == int:\n",
    "                    prod = prod * i[key]\n",
    "        else:\n",
    "            for key in i:\n",
    "                if type(key) == int:\n",
    "                    prod = prod * key\n",
    "    if prod != 1:\n",
    "        print(i,prod)"
   ]
  },
  {
   "cell_type": "markdown",
   "metadata": {},
   "source": [
    "## q15 : Try to unwrape all the collection inside collection and create a flat list "
   ]
  },
  {
   "cell_type": "code",
   "execution_count": 57,
   "metadata": {},
   "outputs": [
    {
     "name": "stdout",
     "output_type": "stream",
     "text": [
      "[1, 2, 3, 4, 2, 3, 4, 5, 6, 3, 4, 5, 6, 7, 45, 4, 5, 23, 'k1', 'sudh', 'k2', 'ineuron', 'k3', 'kumar', 3, 6, 7, 8, 'ineuron', 'datascience']\n"
     ]
    }
   ],
   "source": [
    "iters = [list,dict,tuple,set]\n",
    "overall = []\n",
    "for i in l:\n",
    "    if type(i) in iters:\n",
    "        if type(i) == dict:\n",
    "            for key in i:\n",
    "                overall.append(key)\n",
    "                overall.append(i[key])\n",
    "        else:\n",
    "            for key in i:\n",
    "                overall.append(key)\n",
    "print(overall)"
   ]
  },
  {
   "cell_type": "code",
   "execution_count": null,
   "metadata": {},
   "outputs": [],
   "source": []
  }
 ],
 "metadata": {
  "kernelspec": {
   "display_name": "Python 3",
   "language": "python",
   "name": "python3"
  },
  "language_info": {
   "codemirror_mode": {
    "name": "ipython",
    "version": 3
   },
   "file_extension": ".py",
   "mimetype": "text/x-python",
   "name": "python",
   "nbconvert_exporter": "python",
   "pygments_lexer": "ipython3",
   "version": "3.7.6"
  }
 },
 "nbformat": 4,
 "nbformat_minor": 4
}
